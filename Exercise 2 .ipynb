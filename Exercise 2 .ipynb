{
 "cells": [
  {
   "cell_type": "markdown",
   "id": "e2348e21",
   "metadata": {},
   "source": [
    "### Exercise 2\n",
    "Given a .txt file that has a list of a bunch of records and the record looks like this:\n",
    "###### agent-2030-1517462070-2038-preview_Cross_Sales-2018_02_01_10_44_30-9999999910.mp3\n",
    "with Date –> 2018_02_01, Time –> 10_44_30, Phone No -> 9999999910\n",
    "##### Instructions:-\n",
    "1. Read the text file.\n",
    "2. Filter records on the basis of phone number.\n",
    "3. Write filtered records in new text file.\n",
    "4. Print filtered records. \n"
   ]
  },
  {
   "cell_type": "code",
   "execution_count": 1,
   "id": "c8ae5d33",
   "metadata": {},
   "outputs": [],
   "source": [
    "import pandas as pd\n",
    "import re"
   ]
  },
  {
   "cell_type": "code",
   "execution_count": 2,
   "id": "6de37f79",
   "metadata": {},
   "outputs": [
    {
     "name": "stdout",
     "output_type": "stream",
     "text": [
      "9999999910\n",
      "3829482957\n",
      "5839575930\n",
      "7482957295\n",
      "4735839583\n",
      "4759375937\n",
      "4725284928\n",
      "\n"
     ]
    }
   ],
   "source": [
    "with open(\"dataset/customers.txt\",\"r\") as file1:\n",
    "    with open('dataset/customertest.txt','w') as writefile:\n",
    "        for line in file1:\n",
    "            x = re.findall('([0-9]+\\.)', line)\n",
    "            writefile.write(x[0].replace(\".\", \"\") + \"\\n\")\n",
    "            \n",
    "with open('dataset/customertest.txt','r') as file2:\n",
    "    print(file2.read())"
   ]
  }
 ],
 "metadata": {
  "kernelspec": {
   "display_name": "Python 3",
   "language": "python",
   "name": "python3"
  },
  "language_info": {
   "codemirror_mode": {
    "name": "ipython",
    "version": 3
   },
   "file_extension": ".py",
   "mimetype": "text/x-python",
   "name": "python",
   "nbconvert_exporter": "python",
   "pygments_lexer": "ipython3",
   "version": "3.8.8"
  }
 },
 "nbformat": 4,
 "nbformat_minor": 5
}
